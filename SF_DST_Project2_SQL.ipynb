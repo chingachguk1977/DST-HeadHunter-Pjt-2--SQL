{
  "cells": [
    {
      "cell_type": "markdown",
      "id": "42289889-bd57-434e-9637-d3e354756316",
      "metadata": {
        "id": "42289889-bd57-434e-9637-d3e354756316"
      },
      "source": [
        "<center> <img src = https://raw.githubusercontent.com/AndreyRysistov/DatasetsForPandas/main/hh%20label.jpg alt=\"drawing\" style=\"width:400px;\">"
      ]
    },
    {
      "cell_type": "markdown",
      "id": "829cb75b-f14e-4ba8-9195-7ba929a7d656",
      "metadata": {
        "id": "829cb75b-f14e-4ba8-9195-7ba929a7d656",
        "tags": []
      },
      "source": [
        "# <center> Проект: Анализ вакансий из HeadHunter\n",
        "   "
      ]
    },
    {
      "cell_type": "code",
      "execution_count": 45,
      "id": "93632286",
      "metadata": {},
      "outputs": [],
      "source": [
        "# !pip install psycopg2\n",
        "# !pip install python-dotenv\n",
        "# !pip install sqlalchemy"
      ]
    },
    {
      "cell_type": "code",
      "execution_count": 46,
      "id": "dccfde33-2452-43fb-a8a5-5c6ebc02a71d",
      "metadata": {
        "id": "dccfde33-2452-43fb-a8a5-5c6ebc02a71d"
      },
      "outputs": [],
      "source": [
        "import os\n",
        "\n",
        "import pandas as pd\n",
        "import psycopg2\n",
        "from dotenv import find_dotenv, load_dotenv\n",
        "from sqlalchemy import create_engine"
      ]
    },
    {
      "cell_type": "code",
      "execution_count": 47,
      "id": "77d15226",
      "metadata": {},
      "outputs": [
        {
          "data": {
            "text/plain": [
              "True"
            ]
          },
          "execution_count": 47,
          "metadata": {},
          "output_type": "execute_result"
        }
      ],
      "source": [
        "load_dotenv(find_dotenv())"
      ]
    },
    {
      "cell_type": "code",
      "execution_count": 48,
      "id": "a11b0103",
      "metadata": {},
      "outputs": [],
      "source": [
        "dbname=os.getenv('DBNAME')\n",
        "user=os.getenv('USER')\n",
        "host=os.getenv('HOST')\n",
        "password=os.getenv('PASSWORD')\n",
        "port=os.getenv('PORT')"
      ]
    },
    {
      "cell_type": "code",
      "execution_count": 49,
      "id": "44139d16",
      "metadata": {},
      "outputs": [],
      "source": [
        "connection = create_engine(f'postgresql+psycopg2://{user}:{password}@{host}:{port}/{dbname}')"
      ]
    },
    {
      "cell_type": "code",
      "execution_count": 50,
      "id": "G4X_q8KBf7SF",
      "metadata": {
        "id": "G4X_q8KBf7SF"
      },
      "outputs": [],
      "source": [
        "# connection = psycopg2.connect(\n",
        "#     dbname=os.getenv('DBNAME'),\n",
        "#     user=os.getenv('USER'),\n",
        "#     host=os.getenv('HOST'),\n",
        "#     password=os.getenv('PASSWORD'),\n",
        "#     port=os.getenv('PORT')\n",
        "# )"
      ]
    },
    {
      "cell_type": "markdown",
      "id": "0dc6476b-7a00-44f1-ac93-6e3baed33a29",
      "metadata": {
        "id": "0dc6476b-7a00-44f1-ac93-6e3baed33a29"
      },
      "source": [
        "# Юнит 3. Предварительный анализ данных"
      ]
    },
    {
      "cell_type": "markdown",
      "id": "889782b6-8d1c-410e-8920-e57f27917c64",
      "metadata": {
        "id": "889782b6-8d1c-410e-8920-e57f27917c64"
      },
      "source": [
        "1. Напишите запрос, который посчитает количество вакансий в нашей базе (вакансии находятся в таблице vacancies). "
      ]
    },
    {
      "cell_type": "code",
      "execution_count": 51,
      "id": "bc39e68e-ed02-4ee2-9235-7258a2f867a8",
      "metadata": {
        "id": "bc39e68e-ed02-4ee2-9235-7258a2f867a8"
      },
      "outputs": [],
      "source": [
        "# текст запроса\n",
        "query_3_1 = f'''\n",
        "    select count(v.id)\n",
        "    from public.vacancies v\n",
        "'''"
      ]
    },
    {
      "cell_type": "code",
      "execution_count": 52,
      "id": "7mAwtsk4hEHY",
      "metadata": {
        "id": "7mAwtsk4hEHY"
      },
      "outputs": [
        {
          "ename": "ProgrammingError",
          "evalue": "(psycopg2.errors.UndefinedTable) relation \"vacancies\" does not exist\nLINE 3:     from vacancies v\n                 ^\n\n[SQL: \n    select count(v.id)\n    from vacancies v\n]\n(Background on this error at: https://sqlalche.me/e/14/f405)",
          "output_type": "error",
          "traceback": [
            "\u001b[1;31m---------------------------------------------------------------------------\u001b[0m",
            "\u001b[1;31mUndefinedTable\u001b[0m                            Traceback (most recent call last)",
            "File \u001b[1;32mc:\\Python310\\lib\\site-packages\\sqlalchemy\\engine\\base.py:1900\u001b[0m, in \u001b[0;36mConnection._execute_context\u001b[1;34m(self, dialect, constructor, statement, parameters, execution_options, *args, **kw)\u001b[0m\n\u001b[0;32m   1899\u001b[0m     \u001b[39mif\u001b[39;00m \u001b[39mnot\u001b[39;00m evt_handled:\n\u001b[1;32m-> 1900\u001b[0m         \u001b[39mself\u001b[39;49m\u001b[39m.\u001b[39;49mdialect\u001b[39m.\u001b[39;49mdo_execute(\n\u001b[0;32m   1901\u001b[0m             cursor, statement, parameters, context\n\u001b[0;32m   1902\u001b[0m         )\n\u001b[0;32m   1904\u001b[0m \u001b[39mif\u001b[39;00m \u001b[39mself\u001b[39m\u001b[39m.\u001b[39m_has_events \u001b[39mor\u001b[39;00m \u001b[39mself\u001b[39m\u001b[39m.\u001b[39mengine\u001b[39m.\u001b[39m_has_events:\n",
            "File \u001b[1;32mc:\\Python310\\lib\\site-packages\\sqlalchemy\\engine\\default.py:736\u001b[0m, in \u001b[0;36mDefaultDialect.do_execute\u001b[1;34m(self, cursor, statement, parameters, context)\u001b[0m\n\u001b[0;32m    735\u001b[0m \u001b[39mdef\u001b[39;00m \u001b[39mdo_execute\u001b[39m(\u001b[39mself\u001b[39m, cursor, statement, parameters, context\u001b[39m=\u001b[39m\u001b[39mNone\u001b[39;00m):\n\u001b[1;32m--> 736\u001b[0m     cursor\u001b[39m.\u001b[39;49mexecute(statement, parameters)\n",
            "\u001b[1;31mUndefinedTable\u001b[0m: relation \"vacancies\" does not exist\nLINE 3:     from vacancies v\n                 ^\n",
            "\nThe above exception was the direct cause of the following exception:\n",
            "\u001b[1;31mProgrammingError\u001b[0m                          Traceback (most recent call last)",
            "\u001b[1;32mc:\\Users\\romab\\OneDrive\\Documents\\Data Science - DST-100\\SQL - Project 2 - HeadHunter\\project_files\\DST-HeadHunter-Pjt-2--SQL-\\SF_DST_Project2_SQL.ipynb Cell 12\u001b[0m in \u001b[0;36m<module>\u001b[1;34m\u001b[0m\n\u001b[0;32m      <a href='vscode-notebook-cell:/c%3A/Users/romab/OneDrive/Documents/Data%20Science%20-%20DST-100/SQL%20-%20Project%202%20-%20HeadHunter/project_files/DST-HeadHunter-Pjt-2--SQL-/SF_DST_Project2_SQL.ipynb#Y224sZmlsZQ%3D%3D?line=0'>1</a>\u001b[0m \u001b[39m# результат запроса\u001b[39;00m\n\u001b[1;32m----> <a href='vscode-notebook-cell:/c%3A/Users/romab/OneDrive/Documents/Data%20Science%20-%20DST-100/SQL%20-%20Project%202%20-%20HeadHunter/project_files/DST-HeadHunter-Pjt-2--SQL-/SF_DST_Project2_SQL.ipynb#Y224sZmlsZQ%3D%3D?line=1'>2</a>\u001b[0m df \u001b[39m=\u001b[39m pd\u001b[39m.\u001b[39;49mread_sql_query(query_3_1, connection)\n\u001b[0;32m      <a href='vscode-notebook-cell:/c%3A/Users/romab/OneDrive/Documents/Data%20Science%20-%20DST-100/SQL%20-%20Project%202%20-%20HeadHunter/project_files/DST-HeadHunter-Pjt-2--SQL-/SF_DST_Project2_SQL.ipynb#Y224sZmlsZQ%3D%3D?line=2'>3</a>\u001b[0m df\n",
            "File \u001b[1;32mc:\\Python310\\lib\\site-packages\\pandas\\io\\sql.py:399\u001b[0m, in \u001b[0;36mread_sql_query\u001b[1;34m(sql, con, index_col, coerce_float, params, parse_dates, chunksize, dtype)\u001b[0m\n\u001b[0;32m    341\u001b[0m \u001b[39m\"\"\"\u001b[39;00m\n\u001b[0;32m    342\u001b[0m \u001b[39mRead SQL query into a DataFrame.\u001b[39;00m\n\u001b[0;32m    343\u001b[0m \n\u001b[1;32m   (...)\u001b[0m\n\u001b[0;32m    396\u001b[0m \u001b[39mparameter will be converted to UTC.\u001b[39;00m\n\u001b[0;32m    397\u001b[0m \u001b[39m\"\"\"\u001b[39;00m\n\u001b[0;32m    398\u001b[0m pandas_sql \u001b[39m=\u001b[39m pandasSQL_builder(con)\n\u001b[1;32m--> 399\u001b[0m \u001b[39mreturn\u001b[39;00m pandas_sql\u001b[39m.\u001b[39;49mread_query(\n\u001b[0;32m    400\u001b[0m     sql,\n\u001b[0;32m    401\u001b[0m     index_col\u001b[39m=\u001b[39;49mindex_col,\n\u001b[0;32m    402\u001b[0m     params\u001b[39m=\u001b[39;49mparams,\n\u001b[0;32m    403\u001b[0m     coerce_float\u001b[39m=\u001b[39;49mcoerce_float,\n\u001b[0;32m    404\u001b[0m     parse_dates\u001b[39m=\u001b[39;49mparse_dates,\n\u001b[0;32m    405\u001b[0m     chunksize\u001b[39m=\u001b[39;49mchunksize,\n\u001b[0;32m    406\u001b[0m     dtype\u001b[39m=\u001b[39;49mdtype,\n\u001b[0;32m    407\u001b[0m )\n",
            "File \u001b[1;32mc:\\Python310\\lib\\site-packages\\pandas\\io\\sql.py:1557\u001b[0m, in \u001b[0;36mSQLDatabase.read_query\u001b[1;34m(self, sql, index_col, coerce_float, parse_dates, params, chunksize, dtype)\u001b[0m\n\u001b[0;32m   1509\u001b[0m \u001b[39m\"\"\"\u001b[39;00m\n\u001b[0;32m   1510\u001b[0m \u001b[39mRead SQL query into a DataFrame.\u001b[39;00m\n\u001b[0;32m   1511\u001b[0m \n\u001b[1;32m   (...)\u001b[0m\n\u001b[0;32m   1553\u001b[0m \n\u001b[0;32m   1554\u001b[0m \u001b[39m\"\"\"\u001b[39;00m\n\u001b[0;32m   1555\u001b[0m args \u001b[39m=\u001b[39m _convert_params(sql, params)\n\u001b[1;32m-> 1557\u001b[0m result \u001b[39m=\u001b[39m \u001b[39mself\u001b[39;49m\u001b[39m.\u001b[39;49mexecute(\u001b[39m*\u001b[39;49margs)\n\u001b[0;32m   1558\u001b[0m columns \u001b[39m=\u001b[39m result\u001b[39m.\u001b[39mkeys()\n\u001b[0;32m   1560\u001b[0m \u001b[39mif\u001b[39;00m chunksize \u001b[39mis\u001b[39;00m \u001b[39mnot\u001b[39;00m \u001b[39mNone\u001b[39;00m:\n",
            "File \u001b[1;32mc:\\Python310\\lib\\site-packages\\pandas\\io\\sql.py:1402\u001b[0m, in \u001b[0;36mSQLDatabase.execute\u001b[1;34m(self, *args, **kwargs)\u001b[0m\n\u001b[0;32m   1400\u001b[0m \u001b[39mdef\u001b[39;00m \u001b[39mexecute\u001b[39m(\u001b[39mself\u001b[39m, \u001b[39m*\u001b[39margs, \u001b[39m*\u001b[39m\u001b[39m*\u001b[39mkwargs):\n\u001b[0;32m   1401\u001b[0m     \u001b[39m\"\"\"Simple passthrough to SQLAlchemy connectable\"\"\"\u001b[39;00m\n\u001b[1;32m-> 1402\u001b[0m     \u001b[39mreturn\u001b[39;00m \u001b[39mself\u001b[39m\u001b[39m.\u001b[39mconnectable\u001b[39m.\u001b[39mexecution_options()\u001b[39m.\u001b[39mexecute(\u001b[39m*\u001b[39margs, \u001b[39m*\u001b[39m\u001b[39m*\u001b[39mkwargs)\n",
            "File \u001b[1;32m<string>:2\u001b[0m, in \u001b[0;36mexecute\u001b[1;34m(self, statement, *multiparams, **params)\u001b[0m\n",
            "File \u001b[1;32mc:\\Python310\\lib\\site-packages\\sqlalchemy\\util\\deprecations.py:402\u001b[0m, in \u001b[0;36m_decorate_with_warning.<locals>.warned\u001b[1;34m(fn, *args, **kwargs)\u001b[0m\n\u001b[0;32m    400\u001b[0m \u001b[39mif\u001b[39;00m \u001b[39mnot\u001b[39;00m skip_warning:\n\u001b[0;32m    401\u001b[0m     _warn_with_version(message, version, wtype, stacklevel\u001b[39m=\u001b[39m\u001b[39m3\u001b[39m)\n\u001b[1;32m--> 402\u001b[0m \u001b[39mreturn\u001b[39;00m fn(\u001b[39m*\u001b[39margs, \u001b[39m*\u001b[39m\u001b[39m*\u001b[39mkwargs)\n",
            "File \u001b[1;32mc:\\Python310\\lib\\site-packages\\sqlalchemy\\engine\\base.py:3257\u001b[0m, in \u001b[0;36mEngine.execute\u001b[1;34m(self, statement, *multiparams, **params)\u001b[0m\n\u001b[0;32m   3239\u001b[0m \u001b[39m\"\"\"Executes the given construct and returns a\u001b[39;00m\n\u001b[0;32m   3240\u001b[0m \u001b[39m:class:`_engine.CursorResult`.\u001b[39;00m\n\u001b[0;32m   3241\u001b[0m \n\u001b[1;32m   (...)\u001b[0m\n\u001b[0;32m   3254\u001b[0m \n\u001b[0;32m   3255\u001b[0m \u001b[39m\"\"\"\u001b[39;00m\n\u001b[0;32m   3256\u001b[0m connection \u001b[39m=\u001b[39m \u001b[39mself\u001b[39m\u001b[39m.\u001b[39mconnect(close_with_result\u001b[39m=\u001b[39m\u001b[39mTrue\u001b[39;00m)\n\u001b[1;32m-> 3257\u001b[0m \u001b[39mreturn\u001b[39;00m connection\u001b[39m.\u001b[39mexecute(statement, \u001b[39m*\u001b[39mmultiparams, \u001b[39m*\u001b[39m\u001b[39m*\u001b[39mparams)\n",
            "File \u001b[1;32mc:\\Python310\\lib\\site-packages\\sqlalchemy\\engine\\base.py:1365\u001b[0m, in \u001b[0;36mConnection.execute\u001b[1;34m(self, statement, *multiparams, **params)\u001b[0m\n\u001b[0;32m   1356\u001b[0m \u001b[39mif\u001b[39;00m \u001b[39misinstance\u001b[39m(statement, util\u001b[39m.\u001b[39mstring_types):\n\u001b[0;32m   1357\u001b[0m     util\u001b[39m.\u001b[39mwarn_deprecated_20(\n\u001b[0;32m   1358\u001b[0m         \u001b[39m\"\u001b[39m\u001b[39mPassing a string to Connection.execute() is \u001b[39m\u001b[39m\"\u001b[39m\n\u001b[0;32m   1359\u001b[0m         \u001b[39m\"\u001b[39m\u001b[39mdeprecated and will be removed in version 2.0.  Use the \u001b[39m\u001b[39m\"\u001b[39m\n\u001b[1;32m   (...)\u001b[0m\n\u001b[0;32m   1362\u001b[0m         \u001b[39m\"\u001b[39m\u001b[39mdriver-level SQL string.\u001b[39m\u001b[39m\"\u001b[39m\n\u001b[0;32m   1363\u001b[0m     )\n\u001b[1;32m-> 1365\u001b[0m     \u001b[39mreturn\u001b[39;00m \u001b[39mself\u001b[39;49m\u001b[39m.\u001b[39;49m_exec_driver_sql(\n\u001b[0;32m   1366\u001b[0m         statement,\n\u001b[0;32m   1367\u001b[0m         multiparams,\n\u001b[0;32m   1368\u001b[0m         params,\n\u001b[0;32m   1369\u001b[0m         _EMPTY_EXECUTION_OPTS,\n\u001b[0;32m   1370\u001b[0m         future\u001b[39m=\u001b[39;49m\u001b[39mFalse\u001b[39;49;00m,\n\u001b[0;32m   1371\u001b[0m     )\n\u001b[0;32m   1373\u001b[0m \u001b[39mtry\u001b[39;00m:\n\u001b[0;32m   1374\u001b[0m     meth \u001b[39m=\u001b[39m statement\u001b[39m.\u001b[39m_execute_on_connection\n",
            "File \u001b[1;32mc:\\Python310\\lib\\site-packages\\sqlalchemy\\engine\\base.py:1669\u001b[0m, in \u001b[0;36mConnection._exec_driver_sql\u001b[1;34m(self, statement, multiparams, params, execution_options, future)\u001b[0m\n\u001b[0;32m   1659\u001b[0m         (\n\u001b[0;32m   1660\u001b[0m             statement,\n\u001b[0;32m   1661\u001b[0m             distilled_params,\n\u001b[1;32m   (...)\u001b[0m\n\u001b[0;32m   1665\u001b[0m             statement, distilled_parameters, execution_options\n\u001b[0;32m   1666\u001b[0m         )\n\u001b[0;32m   1668\u001b[0m dialect \u001b[39m=\u001b[39m \u001b[39mself\u001b[39m\u001b[39m.\u001b[39mdialect\n\u001b[1;32m-> 1669\u001b[0m ret \u001b[39m=\u001b[39m \u001b[39mself\u001b[39;49m\u001b[39m.\u001b[39;49m_execute_context(\n\u001b[0;32m   1670\u001b[0m     dialect,\n\u001b[0;32m   1671\u001b[0m     dialect\u001b[39m.\u001b[39;49mexecution_ctx_cls\u001b[39m.\u001b[39;49m_init_statement,\n\u001b[0;32m   1672\u001b[0m     statement,\n\u001b[0;32m   1673\u001b[0m     distilled_parameters,\n\u001b[0;32m   1674\u001b[0m     execution_options,\n\u001b[0;32m   1675\u001b[0m     statement,\n\u001b[0;32m   1676\u001b[0m     distilled_parameters,\n\u001b[0;32m   1677\u001b[0m )\n\u001b[0;32m   1679\u001b[0m \u001b[39mif\u001b[39;00m \u001b[39mnot\u001b[39;00m future:\n\u001b[0;32m   1680\u001b[0m     \u001b[39mif\u001b[39;00m \u001b[39mself\u001b[39m\u001b[39m.\u001b[39m_has_events \u001b[39mor\u001b[39;00m \u001b[39mself\u001b[39m\u001b[39m.\u001b[39mengine\u001b[39m.\u001b[39m_has_events:\n",
            "File \u001b[1;32mc:\\Python310\\lib\\site-packages\\sqlalchemy\\engine\\base.py:1943\u001b[0m, in \u001b[0;36mConnection._execute_context\u001b[1;34m(self, dialect, constructor, statement, parameters, execution_options, *args, **kw)\u001b[0m\n\u001b[0;32m   1940\u001b[0m             branched\u001b[39m.\u001b[39mclose()\n\u001b[0;32m   1942\u001b[0m \u001b[39mexcept\u001b[39;00m \u001b[39mBaseException\u001b[39;00m \u001b[39mas\u001b[39;00m e:\n\u001b[1;32m-> 1943\u001b[0m     \u001b[39mself\u001b[39;49m\u001b[39m.\u001b[39;49m_handle_dbapi_exception(\n\u001b[0;32m   1944\u001b[0m         e, statement, parameters, cursor, context\n\u001b[0;32m   1945\u001b[0m     )\n\u001b[0;32m   1947\u001b[0m \u001b[39mreturn\u001b[39;00m result\n",
            "File \u001b[1;32mc:\\Python310\\lib\\site-packages\\sqlalchemy\\engine\\base.py:2124\u001b[0m, in \u001b[0;36mConnection._handle_dbapi_exception\u001b[1;34m(self, e, statement, parameters, cursor, context)\u001b[0m\n\u001b[0;32m   2122\u001b[0m     util\u001b[39m.\u001b[39mraise_(newraise, with_traceback\u001b[39m=\u001b[39mexc_info[\u001b[39m2\u001b[39m], from_\u001b[39m=\u001b[39me)\n\u001b[0;32m   2123\u001b[0m \u001b[39melif\u001b[39;00m should_wrap:\n\u001b[1;32m-> 2124\u001b[0m     util\u001b[39m.\u001b[39;49mraise_(\n\u001b[0;32m   2125\u001b[0m         sqlalchemy_exception, with_traceback\u001b[39m=\u001b[39;49mexc_info[\u001b[39m2\u001b[39;49m], from_\u001b[39m=\u001b[39;49me\n\u001b[0;32m   2126\u001b[0m     )\n\u001b[0;32m   2127\u001b[0m \u001b[39melse\u001b[39;00m:\n\u001b[0;32m   2128\u001b[0m     util\u001b[39m.\u001b[39mraise_(exc_info[\u001b[39m1\u001b[39m], with_traceback\u001b[39m=\u001b[39mexc_info[\u001b[39m2\u001b[39m])\n",
            "File \u001b[1;32mc:\\Python310\\lib\\site-packages\\sqlalchemy\\util\\compat.py:210\u001b[0m, in \u001b[0;36mraise_\u001b[1;34m(***failed resolving arguments***)\u001b[0m\n\u001b[0;32m    207\u001b[0m     exception\u001b[39m.\u001b[39m__cause__ \u001b[39m=\u001b[39m replace_context\n\u001b[0;32m    209\u001b[0m \u001b[39mtry\u001b[39;00m:\n\u001b[1;32m--> 210\u001b[0m     \u001b[39mraise\u001b[39;00m exception\n\u001b[0;32m    211\u001b[0m \u001b[39mfinally\u001b[39;00m:\n\u001b[0;32m    212\u001b[0m     \u001b[39m# credit to\u001b[39;00m\n\u001b[0;32m    213\u001b[0m     \u001b[39m# https://cosmicpercolator.com/2016/01/13/exception-leaks-in-python-2-and-3/\u001b[39;00m\n\u001b[0;32m    214\u001b[0m     \u001b[39m# as the __traceback__ object creates a cycle\u001b[39;00m\n\u001b[0;32m    215\u001b[0m     \u001b[39mdel\u001b[39;00m exception, replace_context, from_, with_traceback\n",
            "File \u001b[1;32mc:\\Python310\\lib\\site-packages\\sqlalchemy\\engine\\base.py:1900\u001b[0m, in \u001b[0;36mConnection._execute_context\u001b[1;34m(self, dialect, constructor, statement, parameters, execution_options, *args, **kw)\u001b[0m\n\u001b[0;32m   1898\u001b[0m                 \u001b[39mbreak\u001b[39;00m\n\u001b[0;32m   1899\u001b[0m     \u001b[39mif\u001b[39;00m \u001b[39mnot\u001b[39;00m evt_handled:\n\u001b[1;32m-> 1900\u001b[0m         \u001b[39mself\u001b[39;49m\u001b[39m.\u001b[39;49mdialect\u001b[39m.\u001b[39;49mdo_execute(\n\u001b[0;32m   1901\u001b[0m             cursor, statement, parameters, context\n\u001b[0;32m   1902\u001b[0m         )\n\u001b[0;32m   1904\u001b[0m \u001b[39mif\u001b[39;00m \u001b[39mself\u001b[39m\u001b[39m.\u001b[39m_has_events \u001b[39mor\u001b[39;00m \u001b[39mself\u001b[39m\u001b[39m.\u001b[39mengine\u001b[39m.\u001b[39m_has_events:\n\u001b[0;32m   1905\u001b[0m     \u001b[39mself\u001b[39m\u001b[39m.\u001b[39mdispatch\u001b[39m.\u001b[39mafter_cursor_execute(\n\u001b[0;32m   1906\u001b[0m         \u001b[39mself\u001b[39m,\n\u001b[0;32m   1907\u001b[0m         cursor,\n\u001b[1;32m   (...)\u001b[0m\n\u001b[0;32m   1911\u001b[0m         context\u001b[39m.\u001b[39mexecutemany,\n\u001b[0;32m   1912\u001b[0m     )\n",
            "File \u001b[1;32mc:\\Python310\\lib\\site-packages\\sqlalchemy\\engine\\default.py:736\u001b[0m, in \u001b[0;36mDefaultDialect.do_execute\u001b[1;34m(self, cursor, statement, parameters, context)\u001b[0m\n\u001b[0;32m    735\u001b[0m \u001b[39mdef\u001b[39;00m \u001b[39mdo_execute\u001b[39m(\u001b[39mself\u001b[39m, cursor, statement, parameters, context\u001b[39m=\u001b[39m\u001b[39mNone\u001b[39;00m):\n\u001b[1;32m--> 736\u001b[0m     cursor\u001b[39m.\u001b[39;49mexecute(statement, parameters)\n",
            "\u001b[1;31mProgrammingError\u001b[0m: (psycopg2.errors.UndefinedTable) relation \"vacancies\" does not exist\nLINE 3:     from vacancies v\n                 ^\n\n[SQL: \n    select count(v.id)\n    from vacancies v\n]\n(Background on this error at: https://sqlalche.me/e/14/f405)"
          ]
        }
      ],
      "source": [
        "# результат запроса\n",
        "df = pd.read_sql_query(query_3_1, connection)\n",
        "df"
      ]
    },
    {
      "cell_type": "markdown",
      "id": "b583485d-1f9e-494e-ada4-80ffff7c53d6",
      "metadata": {
        "id": "b583485d-1f9e-494e-ada4-80ffff7c53d6"
      },
      "source": [
        "2. Напишите запрос, который посчитает количество работодателей (таблица employers). "
      ]
    },
    {
      "cell_type": "code",
      "execution_count": 9,
      "id": "5408c52c-3407-4a63-b25b-1aafa2322d28",
      "metadata": {
        "id": "5408c52c-3407-4a63-b25b-1aafa2322d28"
      },
      "outputs": [],
      "source": [
        "# текст запроса\n",
        "query_3_2 = f'''\n",
        "    select count(e.id)\n",
        "    from public.employers e\n",
        "'''"
      ]
    },
    {
      "cell_type": "code",
      "execution_count": 10,
      "id": "jVL4eshKhdqc",
      "metadata": {
        "id": "jVL4eshKhdqc"
      },
      "outputs": [
        {
          "data": {
            "text/html": [
              "<div>\n",
              "<style scoped>\n",
              "    .dataframe tbody tr th:only-of-type {\n",
              "        vertical-align: middle;\n",
              "    }\n",
              "\n",
              "    .dataframe tbody tr th {\n",
              "        vertical-align: top;\n",
              "    }\n",
              "\n",
              "    .dataframe thead th {\n",
              "        text-align: right;\n",
              "    }\n",
              "</style>\n",
              "<table border=\"1\" class=\"dataframe\">\n",
              "  <thead>\n",
              "    <tr style=\"text-align: right;\">\n",
              "      <th></th>\n",
              "      <th>count</th>\n",
              "    </tr>\n",
              "  </thead>\n",
              "  <tbody>\n",
              "    <tr>\n",
              "      <th>0</th>\n",
              "      <td>23501</td>\n",
              "    </tr>\n",
              "  </tbody>\n",
              "</table>\n",
              "</div>"
            ],
            "text/plain": [
              "   count\n",
              "0  23501"
            ]
          },
          "execution_count": 10,
          "metadata": {},
          "output_type": "execute_result"
        }
      ],
      "source": [
        "# результат запроса\n",
        "df = pd.read_sql_query(query_3_2, connection)\n",
        "df"
      ]
    },
    {
      "cell_type": "markdown",
      "id": "a2bfff1f-c975-4bf6-84be-2185d79dcb76",
      "metadata": {
        "id": "a2bfff1f-c975-4bf6-84be-2185d79dcb76"
      },
      "source": [
        "3. Посчитате с помощью запроса количество регионов (таблица areas)."
      ]
    },
    {
      "cell_type": "code",
      "execution_count": null,
      "id": "1m8QJwBYhey6",
      "metadata": {
        "id": "1m8QJwBYhey6"
      },
      "outputs": [],
      "source": [
        "# текст запроса"
      ]
    },
    {
      "cell_type": "code",
      "execution_count": null,
      "id": "EZsn9tlfhe7f",
      "metadata": {
        "id": "EZsn9tlfhe7f"
      },
      "outputs": [],
      "source": [
        "# результат запроса"
      ]
    },
    {
      "cell_type": "markdown",
      "id": "41bb59f3-53cc-4a67-a5bc-bedf573955e4",
      "metadata": {
        "id": "41bb59f3-53cc-4a67-a5bc-bedf573955e4"
      },
      "source": [
        "4. Посчитате с помощью запроса количество сфер деятельности в базе (таблица industries)."
      ]
    },
    {
      "cell_type": "code",
      "execution_count": null,
      "id": "d286cf4c-707b-4cd2-9190-7ab3587d04a1",
      "metadata": {
        "id": "d286cf4c-707b-4cd2-9190-7ab3587d04a1"
      },
      "outputs": [],
      "source": [
        "# текст запроса"
      ]
    },
    {
      "cell_type": "code",
      "execution_count": null,
      "id": "JYAaoZ4qhfzW",
      "metadata": {
        "id": "JYAaoZ4qhfzW"
      },
      "outputs": [],
      "source": [
        "# результат запроса"
      ]
    },
    {
      "cell_type": "markdown",
      "id": "9a8a2181-6914-448b-85f1-38f5f18b8a93",
      "metadata": {
        "id": "9a8a2181-6914-448b-85f1-38f5f18b8a93"
      },
      "source": [
        "***"
      ]
    },
    {
      "cell_type": "code",
      "execution_count": null,
      "id": "be4e9bd3-a4db-4a20-82fb-6b02fc2957e0",
      "metadata": {
        "id": "be4e9bd3-a4db-4a20-82fb-6b02fc2957e0"
      },
      "outputs": [],
      "source": [
        "# выводы по предварительному анализу данных"
      ]
    },
    {
      "cell_type": "markdown",
      "id": "8d62a9f3-f64e-4fe7-bdac-c4dffa16155e",
      "metadata": {
        "id": "8d62a9f3-f64e-4fe7-bdac-c4dffa16155e"
      },
      "source": [
        "# Юнит 4. Детальный анализ вакансий"
      ]
    },
    {
      "cell_type": "markdown",
      "id": "93053d3d-b284-481a-9cf7-012d7014c0e0",
      "metadata": {
        "id": "93053d3d-b284-481a-9cf7-012d7014c0e0"
      },
      "source": [
        "1. Напишите запрос, который позволит узнать, сколько (cnt) вакансий в каждом регионе (area).\n",
        "Отсортируйте по количеству вакансий в порядке убывания."
      ]
    },
    {
      "cell_type": "code",
      "execution_count": null,
      "id": "3f069da6-fdc9-4ae7-b514-fafe2675efd3",
      "metadata": {
        "id": "3f069da6-fdc9-4ae7-b514-fafe2675efd3"
      },
      "outputs": [],
      "source": [
        "# текст запроса"
      ]
    },
    {
      "cell_type": "code",
      "execution_count": null,
      "id": "P7QL86hrjhRJ",
      "metadata": {
        "id": "P7QL86hrjhRJ"
      },
      "outputs": [],
      "source": [
        "# результат запроса"
      ]
    },
    {
      "cell_type": "markdown",
      "id": "4266f0b6-1646-492a-88b4-2f6a46502135",
      "metadata": {
        "id": "4266f0b6-1646-492a-88b4-2f6a46502135"
      },
      "source": [
        "2. Напишите запрос, чтобы определить у какого количества вакансий заполнено хотя бы одно из двух полей с зарплатой."
      ]
    },
    {
      "cell_type": "code",
      "execution_count": null,
      "id": "0c44b350-72eb-4d65-8b54-a1fc449ba9fd",
      "metadata": {
        "id": "0c44b350-72eb-4d65-8b54-a1fc449ba9fd"
      },
      "outputs": [],
      "source": [
        "# текст запроса"
      ]
    },
    {
      "cell_type": "code",
      "execution_count": null,
      "id": "rhvwaMDkoWTi",
      "metadata": {
        "id": "rhvwaMDkoWTi"
      },
      "outputs": [],
      "source": [
        "# результат запроса"
      ]
    },
    {
      "cell_type": "markdown",
      "id": "635c4d5d-f323-4c66-b428-50a088120aa0",
      "metadata": {
        "id": "635c4d5d-f323-4c66-b428-50a088120aa0"
      },
      "source": [
        "3. Найдите средние значения для нижней и верхней границы зарплатной вилки. Округлите значения до целого."
      ]
    },
    {
      "cell_type": "code",
      "execution_count": null,
      "id": "603cdbe4-0ec3-4106-8eaf-c73fcdd29165",
      "metadata": {
        "id": "603cdbe4-0ec3-4106-8eaf-c73fcdd29165"
      },
      "outputs": [],
      "source": [
        "# текст запроса"
      ]
    },
    {
      "cell_type": "code",
      "execution_count": null,
      "id": "pswpAb66ovZZ",
      "metadata": {
        "id": "pswpAb66ovZZ"
      },
      "outputs": [],
      "source": [
        "# результат запроса"
      ]
    },
    {
      "cell_type": "markdown",
      "id": "f3fdaec9-5fd3-4260-9cf5-1d7406b628a5",
      "metadata": {
        "id": "f3fdaec9-5fd3-4260-9cf5-1d7406b628a5"
      },
      "source": [
        "4. Напишите запрос, который выведет количество вакансий для каждого сочетания типа рабочего графика (schedule) и типа трудоустройства (employment), используемого в вакансиях. Результат отсортируйте по убыванию количества.\n"
      ]
    },
    {
      "cell_type": "code",
      "execution_count": null,
      "id": "1ea710ec-871b-431e-9462-c7d0fd87011b",
      "metadata": {
        "id": "1ea710ec-871b-431e-9462-c7d0fd87011b"
      },
      "outputs": [],
      "source": [
        "# текст запроса"
      ]
    },
    {
      "cell_type": "code",
      "execution_count": null,
      "id": "lGUVqavdo4JQ",
      "metadata": {
        "id": "lGUVqavdo4JQ"
      },
      "outputs": [],
      "source": [
        "# результат запроса"
      ]
    },
    {
      "cell_type": "markdown",
      "id": "0136ffee-0ead-4a6b-b608-61d1c753a438",
      "metadata": {
        "id": "0136ffee-0ead-4a6b-b608-61d1c753a438"
      },
      "source": [
        "5. Напишите запрос, выводящий значения поля Требуемый опыт работы (experience) в порядке возрастания количества вакансий, в которых указан данный вариант опыта. "
      ]
    },
    {
      "cell_type": "code",
      "execution_count": null,
      "id": "5b3a8e79-f7ab-4008-b767-12aea3a205ea",
      "metadata": {
        "id": "5b3a8e79-f7ab-4008-b767-12aea3a205ea"
      },
      "outputs": [],
      "source": [
        "# текст запроса"
      ]
    },
    {
      "cell_type": "code",
      "execution_count": null,
      "id": "3Is64Y-hpDpq",
      "metadata": {
        "id": "3Is64Y-hpDpq"
      },
      "outputs": [],
      "source": [
        "# результат запроса"
      ]
    },
    {
      "cell_type": "markdown",
      "id": "oq2b7n1QpIka",
      "metadata": {
        "id": "oq2b7n1QpIka"
      },
      "source": [
        "***"
      ]
    },
    {
      "cell_type": "code",
      "execution_count": null,
      "id": "e91f87ed-e25c-4f96-9f92-b642e8c0b4fa",
      "metadata": {
        "id": "e91f87ed-e25c-4f96-9f92-b642e8c0b4fa"
      },
      "outputs": [],
      "source": [
        "# выводы по детальному анализу вакансий"
      ]
    },
    {
      "cell_type": "markdown",
      "id": "7ea20ab6-04a7-40a0-adec-443a0e5a42c3",
      "metadata": {
        "id": "7ea20ab6-04a7-40a0-adec-443a0e5a42c3"
      },
      "source": [
        "# Юнит 5. Анализ работодателей"
      ]
    },
    {
      "cell_type": "markdown",
      "id": "968aed80-74ef-4ffb-b5bf-c65b84e9caea",
      "metadata": {
        "id": "968aed80-74ef-4ffb-b5bf-c65b84e9caea"
      },
      "source": [
        "1. Напишите запрос, который позволит узнать, какие работодатели находятся на первом и пятом месте по количеству вакансий."
      ]
    },
    {
      "cell_type": "code",
      "execution_count": null,
      "id": "f2d62796-d400-4ec1-a675-88112739a50e",
      "metadata": {
        "id": "f2d62796-d400-4ec1-a675-88112739a50e"
      },
      "outputs": [],
      "source": [
        "# текст запроса"
      ]
    },
    {
      "cell_type": "code",
      "execution_count": null,
      "id": "64tOMkAxqkQk",
      "metadata": {
        "id": "64tOMkAxqkQk"
      },
      "outputs": [],
      "source": [
        "# результат запроса"
      ]
    },
    {
      "cell_type": "markdown",
      "id": "68377cfc-b378-43dc-ab7d-1195abf2c515",
      "metadata": {
        "id": "68377cfc-b378-43dc-ab7d-1195abf2c515"
      },
      "source": [
        "2. Напишите запрос, который для каждого региона выведет количество работодателей и вакансий в нём.\n",
        "Среди регионов, в которых нет вакансий, найдите тот, в котором наибольшее количество работодателей.\n"
      ]
    },
    {
      "cell_type": "code",
      "execution_count": null,
      "id": "dd7df27a-e3e8-412e-a21a-5d389b71e891",
      "metadata": {
        "id": "dd7df27a-e3e8-412e-a21a-5d389b71e891"
      },
      "outputs": [],
      "source": [
        "# текст запроса"
      ]
    },
    {
      "cell_type": "code",
      "execution_count": null,
      "id": "x1ikWbydrbf6",
      "metadata": {
        "id": "x1ikWbydrbf6"
      },
      "outputs": [],
      "source": [
        "# результат запроса"
      ]
    },
    {
      "cell_type": "markdown",
      "id": "f2fe0acb-ab1a-4e15-9326-2560e22d73c1",
      "metadata": {
        "id": "f2fe0acb-ab1a-4e15-9326-2560e22d73c1"
      },
      "source": [
        "3. Для каждого работодателя посчитайте количество регионов, в которых он публикует свои вакансии. Отсортируйте результат по убыванию количества.\n"
      ]
    },
    {
      "cell_type": "code",
      "execution_count": null,
      "id": "6271f8ad-bd2e-4196-ae4a-5b39c4c1010e",
      "metadata": {
        "id": "6271f8ad-bd2e-4196-ae4a-5b39c4c1010e"
      },
      "outputs": [],
      "source": [
        "# текст запроса"
      ]
    },
    {
      "cell_type": "code",
      "execution_count": null,
      "id": "1EIvX3HasH4F",
      "metadata": {
        "id": "1EIvX3HasH4F"
      },
      "outputs": [],
      "source": [
        "# результат запроса"
      ]
    },
    {
      "cell_type": "markdown",
      "id": "eab2206d-d95b-468b-8e5f-34381abf0ce7",
      "metadata": {
        "id": "eab2206d-d95b-468b-8e5f-34381abf0ce7"
      },
      "source": [
        "4. Напишите запрос для подсчёта количества работодателей, у которых не указана сфера деятельности. "
      ]
    },
    {
      "cell_type": "code",
      "execution_count": null,
      "id": "80defb23-bfb1-4a18-8be6-bf36aa7165d5",
      "metadata": {
        "id": "80defb23-bfb1-4a18-8be6-bf36aa7165d5"
      },
      "outputs": [],
      "source": [
        "# текст запроса"
      ]
    },
    {
      "cell_type": "code",
      "execution_count": null,
      "id": "Dp_yCx6ysQSu",
      "metadata": {
        "id": "Dp_yCx6ysQSu"
      },
      "outputs": [],
      "source": [
        "# результат запроса"
      ]
    },
    {
      "cell_type": "markdown",
      "id": "0112af31-f6b0-4e3b-82ab-71296e752e5e",
      "metadata": {
        "id": "0112af31-f6b0-4e3b-82ab-71296e752e5e"
      },
      "source": [
        "5. Напишите запрос, чтобы узнать название компании, находящейся на третьем месте в алфавитном списке (по названию) компаний, у которых указано четыре сферы деятельности. "
      ]
    },
    {
      "cell_type": "code",
      "execution_count": null,
      "id": "973b0cfc-a972-470a-8b4a-68744ef220c4",
      "metadata": {
        "id": "973b0cfc-a972-470a-8b4a-68744ef220c4"
      },
      "outputs": [],
      "source": [
        "# текст запроса"
      ]
    },
    {
      "cell_type": "code",
      "execution_count": null,
      "id": "xsPtpp8EsaED",
      "metadata": {
        "id": "xsPtpp8EsaED"
      },
      "outputs": [],
      "source": [
        "# результат запроса"
      ]
    },
    {
      "cell_type": "markdown",
      "id": "3bfcfdaf-755d-4d2b-8ed8-326201dc07ab",
      "metadata": {
        "id": "3bfcfdaf-755d-4d2b-8ed8-326201dc07ab"
      },
      "source": [
        "6. С помощью запроса выясните, у какого количества работодателей в качестве сферы деятельности указана Разработка программного обеспечения.\n"
      ]
    },
    {
      "cell_type": "code",
      "execution_count": null,
      "id": "ad3f270f-2991-47eb-929b-e8f88a55b0d1",
      "metadata": {
        "id": "ad3f270f-2991-47eb-929b-e8f88a55b0d1"
      },
      "outputs": [],
      "source": [
        "# текст запроса"
      ]
    },
    {
      "cell_type": "code",
      "execution_count": null,
      "id": "H72qxWM0shPR",
      "metadata": {
        "id": "H72qxWM0shPR"
      },
      "outputs": [],
      "source": [
        "# результат запроса"
      ]
    },
    {
      "cell_type": "markdown",
      "id": "7b02bb86-0546-40fb-94a4-242f050a5c57",
      "metadata": {
        "id": "7b02bb86-0546-40fb-94a4-242f050a5c57"
      },
      "source": [
        "7. Для компании «Яндекс» выведите список регионов-миллионников, в которых представлены вакансии компании, вместе с количеством вакансий в этих регионах. Также добавьте строку Total с общим количеством вакансий компании. Результат отсортируйте по возрастанию количества.\n",
        "\n",
        "Список городов-милионников надо взять [отсюда](https://ru.wikipedia.org/wiki/%D0%93%D0%BE%D1%80%D0%BE%D0%B4%D0%B0-%D0%BC%D0%B8%D0%BB%D0%BB%D0%B8%D0%BE%D0%BD%D0%B5%D1%80%D1%8B_%D0%A0%D0%BE%D1%81%D1%81%D0%B8%D0%B8). \n",
        "\n",
        "Если возникнут трудности с этим задание посмотрите материалы модуля  PYTHON-17. Как получать данные из веб-источников и API. "
      ]
    },
    {
      "cell_type": "code",
      "execution_count": null,
      "id": "ZdfrL6gIs1Pn",
      "metadata": {
        "id": "ZdfrL6gIs1Pn"
      },
      "outputs": [],
      "source": [
        "# код для получения списка городов-милионников"
      ]
    },
    {
      "cell_type": "code",
      "execution_count": null,
      "id": "5a0e32a4-e68a-4365-8a39-2fe24c542c36",
      "metadata": {
        "id": "5a0e32a4-e68a-4365-8a39-2fe24c542c36"
      },
      "outputs": [],
      "source": [
        "# текст запроса"
      ]
    },
    {
      "cell_type": "code",
      "execution_count": null,
      "id": "ttPhiO1rsvPq",
      "metadata": {
        "id": "ttPhiO1rsvPq"
      },
      "outputs": [],
      "source": [
        "# результат запроса"
      ]
    },
    {
      "cell_type": "markdown",
      "id": "04966e40-3bc3-4dc8-9ba2-e80580ce3abc",
      "metadata": {
        "id": "04966e40-3bc3-4dc8-9ba2-e80580ce3abc"
      },
      "source": [
        "***"
      ]
    },
    {
      "cell_type": "code",
      "execution_count": null,
      "id": "aGGyER-yt4SR",
      "metadata": {
        "id": "aGGyER-yt4SR"
      },
      "outputs": [],
      "source": [
        "# выводы по анализу работодателей"
      ]
    },
    {
      "cell_type": "markdown",
      "id": "b1ef156a-efcb-49ce-bb23-90763e7f35b2",
      "metadata": {
        "id": "b1ef156a-efcb-49ce-bb23-90763e7f35b2",
        "tags": []
      },
      "source": [
        "# Юнит 6. Предметный анализ"
      ]
    },
    {
      "cell_type": "markdown",
      "id": "b9cd50a0-992d-4988-8463-2b2b1c4629b4",
      "metadata": {
        "id": "b9cd50a0-992d-4988-8463-2b2b1c4629b4"
      },
      "source": [
        "1. Сколько вакансий имеет отношение к данным?\n",
        "\n",
        "Считаем, что вакансия имеет отношение к данным, если в её названии содержатся слова 'data' или 'данн'.\n",
        "\n",
        "*Подсказка: Обратите внимание, что названия вакансий могут быть написаны в любом регистре.* \n"
      ]
    },
    {
      "cell_type": "code",
      "execution_count": null,
      "id": "54ab0e50-c0f1-47cc-a54b-bc5c8bc363f9",
      "metadata": {
        "id": "54ab0e50-c0f1-47cc-a54b-bc5c8bc363f9"
      },
      "outputs": [],
      "source": [
        "# текст запроса"
      ]
    },
    {
      "cell_type": "code",
      "execution_count": null,
      "id": "9F1meAqsuUjd",
      "metadata": {
        "id": "9F1meAqsuUjd"
      },
      "outputs": [],
      "source": [
        "# результат запроса"
      ]
    },
    {
      "cell_type": "markdown",
      "id": "4dea20cb-a36b-474a-a0b9-e08e8e3857a5",
      "metadata": {
        "id": "4dea20cb-a36b-474a-a0b9-e08e8e3857a5"
      },
      "source": [
        "2. Сколько есть подходящих вакансий для начинающего дата-сайентиста? \n",
        "Будем считать вакансиями для дата-сайентистов такие, в названии которых есть хотя бы одно из следующих сочетаний:\n",
        "* 'data scientist'\n",
        "* 'data science'\n",
        "* 'исследователь данных'\n",
        "* 'ML' (здесь не нужно брать вакансии по HTML)\n",
        "* 'machine learning'\n",
        "* 'машинн%обучен%'\n",
        "\n",
        "** В следующих заданиях мы продолжим работать с вакансиями по этому условию.*\n",
        "\n",
        "Считаем вакансиями для специалистов уровня Junior следующие:\n",
        "* в названии есть слово 'junior' *или*\n",
        "* требуемый опыт — Нет опыта *или*\n",
        "* тип трудоустройства — Стажировка.\n",
        " "
      ]
    },
    {
      "cell_type": "code",
      "execution_count": null,
      "id": "9c61b3c0-bb66-46c9-ae1e-81d3f5752b4a",
      "metadata": {
        "id": "9c61b3c0-bb66-46c9-ae1e-81d3f5752b4a"
      },
      "outputs": [],
      "source": [
        "# текст запроса"
      ]
    },
    {
      "cell_type": "code",
      "execution_count": null,
      "id": "ZNM-LLYuu1dj",
      "metadata": {
        "id": "ZNM-LLYuu1dj"
      },
      "outputs": [],
      "source": [
        "# результат запроса"
      ]
    },
    {
      "cell_type": "markdown",
      "id": "eedceb80-c5ca-480e-b27a-278dfb8b4438",
      "metadata": {
        "id": "eedceb80-c5ca-480e-b27a-278dfb8b4438"
      },
      "source": [
        "3. Сколько есть вакансий для DS, в которых в качестве ключевого навыка указан SQL или postgres?\n",
        "\n",
        "** Критерии для отнесения вакансии к DS указаны в предыдущем задании.*"
      ]
    },
    {
      "cell_type": "code",
      "execution_count": null,
      "id": "69621713-0cc5-4f1b-a1d7-bb144fa6148c",
      "metadata": {
        "id": "69621713-0cc5-4f1b-a1d7-bb144fa6148c"
      },
      "outputs": [],
      "source": [
        "# текст запроса"
      ]
    },
    {
      "cell_type": "code",
      "execution_count": null,
      "id": "alA8WEAAvGdf",
      "metadata": {
        "id": "alA8WEAAvGdf"
      },
      "outputs": [],
      "source": [
        "# результат запроса"
      ]
    },
    {
      "cell_type": "markdown",
      "id": "1be1e9c6-37cf-4a5f-bfeb-04cab799dc80",
      "metadata": {
        "id": "1be1e9c6-37cf-4a5f-bfeb-04cab799dc80"
      },
      "source": [
        "4. Проверьте, насколько популярен Python в требованиях работодателей к DS.Для этого вычислите количество вакансий, в которых в качестве ключевого навыка указан Python.\n",
        "\n",
        "** Это можно сделать помощью запроса, аналогичного предыдущему.*"
      ]
    },
    {
      "cell_type": "code",
      "execution_count": null,
      "id": "0036a355-9ccf-4564-8b01-73d8194297e7",
      "metadata": {
        "id": "0036a355-9ccf-4564-8b01-73d8194297e7"
      },
      "outputs": [],
      "source": [
        "# текст запроса"
      ]
    },
    {
      "cell_type": "code",
      "execution_count": null,
      "id": "1i-5WyucvQ6v",
      "metadata": {
        "id": "1i-5WyucvQ6v"
      },
      "outputs": [],
      "source": [
        "# результат запроса"
      ]
    },
    {
      "cell_type": "markdown",
      "id": "ec3c8db7-fa21-4a41-a994-1af63742a642",
      "metadata": {
        "id": "ec3c8db7-fa21-4a41-a994-1af63742a642"
      },
      "source": [
        "5. Сколько ключевых навыков в среднем указывают в вакансиях для DS?\n",
        "Ответ округлите до двух знаков после точки-разделителя."
      ]
    },
    {
      "cell_type": "code",
      "execution_count": null,
      "id": "949132bc-d5b6-4611-8218-0b9a504d74f4",
      "metadata": {
        "id": "949132bc-d5b6-4611-8218-0b9a504d74f4"
      },
      "outputs": [],
      "source": [
        "# текст запроса"
      ]
    },
    {
      "cell_type": "code",
      "execution_count": null,
      "id": "a3V24Tvmviqk",
      "metadata": {
        "id": "a3V24Tvmviqk"
      },
      "outputs": [],
      "source": [
        "# результат запроса"
      ]
    },
    {
      "cell_type": "markdown",
      "id": "1041c17a-ca8f-4543-a0ca-32778914fb00",
      "metadata": {
        "id": "1041c17a-ca8f-4543-a0ca-32778914fb00"
      },
      "source": [
        "6. Напишите запрос, позволяющий вычислить, какую зарплату для DS в **среднем** указывают для каждого типа требуемого опыта (уникальное значение из поля *experience*). \n",
        "\n",
        "При решении задачи примите во внимание следующее:\n",
        "1. Рассматриваем только вакансии, у которых заполнено хотя бы одно из двух полей с зарплатой.\n",
        "2. Если заполнены оба поля с зарплатой, то считаем зарплату по каждой вакансии как сумму двух полей, делённую на 2. Если заполнено только одно из полей, то его и считаем зарплатой по вакансии.\n",
        "3. Если в расчётах участвует null, в результате он тоже даст null (посмотрите, что возвращает запрос select 1 + null). Чтобы избежать этой ситуацию, мы воспользуемся функцией [coalesce](https://postgrespro.ru/docs/postgresql/9.5/functions-conditional#functions-coalesce-nvl-ifnull), которая заменит null на значение, которое мы передадим. Например, посмотрите, что возвращает запрос `select 1 + coalesce(null, 0)`\n",
        "\n",
        "Выясните, на какую зарплату в среднем может рассчитывать дата-сайентист с опытом работы от 3 до 6 лет. Результат округлите до целого числа. "
      ]
    },
    {
      "cell_type": "code",
      "execution_count": null,
      "id": "6a743d39-5204-48d3-8271-b9f88e68d40e",
      "metadata": {
        "id": "6a743d39-5204-48d3-8271-b9f88e68d40e"
      },
      "outputs": [],
      "source": [
        "# текст запроса"
      ]
    },
    {
      "cell_type": "code",
      "execution_count": null,
      "id": "aRIJ0mZEwU1_",
      "metadata": {
        "id": "aRIJ0mZEwU1_"
      },
      "outputs": [],
      "source": [
        "# результат запроса"
      ]
    },
    {
      "cell_type": "markdown",
      "id": "6a7892b4-4113-4746-adce-18aa2844f18e",
      "metadata": {
        "id": "6a7892b4-4113-4746-adce-18aa2844f18e"
      },
      "source": [
        "***"
      ]
    },
    {
      "cell_type": "code",
      "execution_count": null,
      "id": "UjLWUptVwY1o",
      "metadata": {
        "id": "UjLWUptVwY1o"
      },
      "outputs": [],
      "source": [
        "# выводы по предметному анализу"
      ]
    },
    {
      "cell_type": "markdown",
      "id": "c0ED6fh7wiBT",
      "metadata": {
        "id": "c0ED6fh7wiBT"
      },
      "source": [
        "# Общий вывод по проекту"
      ]
    },
    {
      "cell_type": "code",
      "execution_count": null,
      "id": "h9B3BL-wwj18",
      "metadata": {
        "id": "h9B3BL-wwj18"
      },
      "outputs": [],
      "source": [
        "# подведем итог исследования, обобщите выводы\n",
        "# здесь можно (это будет плюсом) провести дополнительные исследования данных, сделать прогнозы, продумать варианты продолжения исследования"
      ]
    }
  ],
  "metadata": {
    "colab": {
      "collapsed_sections": [
        "8d62a9f3-f64e-4fe7-bdac-c4dffa16155e"
      ],
      "provenance": []
    },
    "kernelspec": {
      "display_name": "Python 3.10.0 64-bit",
      "language": "python",
      "name": "python3"
    },
    "language_info": {
      "codemirror_mode": {
        "name": "ipython",
        "version": 3
      },
      "file_extension": ".py",
      "mimetype": "text/x-python",
      "name": "python",
      "nbconvert_exporter": "python",
      "pygments_lexer": "ipython3",
      "version": "3.10.0"
    },
    "vscode": {
      "interpreter": {
        "hash": "369f2c481f4da34e4445cda3fffd2e751bd1c4d706f27375911949ba6bb62e1c"
      }
    }
  },
  "nbformat": 4,
  "nbformat_minor": 5
}
